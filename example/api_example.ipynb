{
 "cells": [
  {
   "cell_type": "code",
   "execution_count": 1,
   "metadata": {},
   "outputs": [],
   "source": [
    "%reload_ext autoreload\n",
    "%autoreload 2\n",
    "\n",
    "%matplotlib inline "
   ]
  },
  {
   "cell_type": "code",
   "execution_count": 2,
   "metadata": {},
   "outputs": [],
   "source": [
    "import pandas as pd\n",
    "\n",
    "# Read training data.\n",
    "X = pd.read_csv('x_train.csv', index_col=0)\n",
    "y = pd.read_csv('y_train.csv', index_col=0)['x']\n",
    "\n",
    "# Read task design.\n",
    "design = pd.read_csv('design.csv', index_col=0)"
   ]
  },
  {
   "cell_type": "code",
   "execution_count": 3,
   "metadata": {},
   "outputs": [
    {
     "data": {
      "text/plain": [
       "RandomForestRegressor(bootstrap=True, criterion='mse', max_depth=None,\n",
       "           max_features='auto', max_leaf_nodes=None,\n",
       "           min_impurity_split=1e-07, min_samples_leaf=1,\n",
       "           min_samples_split=2, min_weight_fraction_leaf=0.0,\n",
       "           n_estimators=500, n_jobs=4, oob_score=False, random_state=1,\n",
       "           verbose=0, warm_start=False)"
      ]
     },
     "execution_count": 3,
     "metadata": {},
     "output_type": "execute_result"
    }
   ],
   "source": [
    "from sklearn.ensemble import RandomForestRegressor\n",
    "\n",
    "# Train model.\n",
    "model = RandomForestRegressor(\n",
    "    n_jobs=4,\n",
    "    n_estimators=500,\n",
    "    random_state=1)\n",
    "\n",
    "model.fit(X, y.values)"
   ]
  },
  {
   "cell_type": "code",
   "execution_count": 4,
   "metadata": {},
   "outputs": [
    {
     "name": "stderr",
     "output_type": "stream",
     "text": [
      "100%|████████████████████████████████████████| 500/500 [00:03<00:00, 126.71it/s]\n",
      "100%|████████████████████████████████████████| 500/500 [00:04<00:00, 112.14it/s]\n",
      "100%|████████████████████████████████████████| 500/500 [00:04<00:00, 122.03it/s]\n",
      "100%|████████████████████████████████████████| 500/500 [00:04<00:00, 122.80it/s]\n",
      "100%|████████████████████████████████████████| 500/500 [00:03<00:00, 127.92it/s]\n",
      "100%|████████████████████████████████████████| 500/500 [00:04<00:00, 119.35it/s]\n",
      "100%|████████████████████████████████████████| 500/500 [00:03<00:00, 140.00it/s]\n",
      "100%|████████████████████████████████████████| 500/500 [00:03<00:00, 127.59it/s]\n",
      "100%|████████████████████████████████████████| 500/500 [00:04<00:00, 119.36it/s]\n",
      "100%|████████████████████████████████████████| 500/500 [00:03<00:00, 135.41it/s]\n"
     ]
    },
    {
     "data": {
      "text/plain": [
       "<matplotlib.axes._subplots.AxesSubplot at 0x11bc361d0>"
      ]
     },
     "execution_count": 4,
     "metadata": {},
     "output_type": "execute_result"
    },
    {
     "data": {
      "image/png": "[encoded data removed]",
      "text/plain": [
       "<matplotlib.figure.Figure at 0x118953c50>"
      ]
     },
     "metadata": {},
     "output_type": "display_data"
    }
   ],
   "source": [
    "import numpy as np\n",
    "from matplotlib import pyplot as plt\n",
    "import seaborn as sns\n",
    "\n",
    "from multitask_vi import multitask_vi_score\n",
    "\n",
    "# Calculate scores.\n",
    "scores = multitask_vi_score(model, X, y, design=design)\n",
    "\n",
    "# Plot as heatmap.\n",
    "fig, ax = plt.subplots(figsize=(10, 1.5))\n",
    "sns.heatmap(np.log2(scores.T + 1), ax=ax)"
   ]
  },
  {
   "cell_type": "code",
   "execution_count": null,
   "metadata": {
    "collapsed": true
   },
   "outputs": [],
   "source": []
  }
 ],
 "metadata": {
  "kernelspec": {
   "display_name": "Python 3",
   "language": "python",
   "name": "python3"
  },
  "language_info": {
   "codemirror_mode": {
    "name": "ipython",
    "version": 3
   },
   "file_extension": ".py",
   "mimetype": "text/x-python",
   "name": "python",
   "nbconvert_exporter": "python",
   "pygments_lexer": "ipython3",
   "version": "3.5.0"
  }
 },
 "nbformat": 4,
 "nbformat_minor": 2
}
